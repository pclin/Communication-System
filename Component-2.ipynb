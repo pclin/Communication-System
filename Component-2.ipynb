{
 "cells": [
  {
   "cell_type": "code",
   "execution_count": 1,
   "metadata": {},
   "outputs": [],
   "source": [
    "#libraries used\n",
    "import numpy as np\n",
    "import matplotlib.pyplot as plt\n",
    "import scipy\n",
    "import cmath "
   ]
  },
  {
   "cell_type": "code",
   "execution_count": 2,
   "metadata": {},
   "outputs": [
    {
     "name": "stdout",
     "output_type": "stream",
     "text": [
      "[[1, 0], [1, 0], [0, 1], [1, 0], [1, 0], [0, 1], [1, 0], [1, 0], [1, 0], [1, 0], [0, 1], [0, 1], [0, 1], [1, 0], [0, 1], [0, 1], [0, 1], [0, 1], [0, 1], [1, 0], [1, 0], [0, 1], [1, 0], [1, 0], [1, 0], [1, 0], [0, 1], [0, 1], [0, 1], [1, 0], [1, 0], [1, 0], [1, 0], [1, 0], [1, 0], [1, 0], [0, 1], [1, 0], [0, 1], [1, 0], [1, 0], [0, 1], [0, 1], [0, 1], [0, 1], [0, 1], [1, 0], [0, 1], [0, 1], [0, 1], [0, 1], [0, 1], [0, 1], [1, 0], [0, 1], [0, 1], [0, 1], [0, 1], [1, 0], [1, 0], [0, 1], [1, 0], [1, 0], [0, 1], [0, 1], [0, 1], [0, 1], [0, 1], [0, 1], [0, 1], [1, 0], [1, 0], [0, 1], [0, 1], [1, 0], [0, 1], [0, 1], [1, 0], [0, 1], [1, 0], [0, 1], [1, 0], [0, 1], [1, 0], [1, 0], [0, 1], [0, 1], [0, 1], [0, 1], [0, 1], [1, 0], [1, 0], [1, 0], [0, 1], [0, 1], [1, 0], [0, 1], [1, 0], [1, 0], [0, 1], [0, 1], [1, 0], [0, 1], [1, 0], [1, 0], [0, 1], [1, 0], [1, 0], [1, 0], [1, 0], [1, 0], [0, 1], [0, 1], [1, 0], [0, 1], [0, 1], [1, 0]]\n"
     ]
    }
   ],
   "source": [
    "#-------------------------------------------------Transmitter End--------------------------------------------------------#\n",
    "#Generate a signal\n",
    "original_signal=[[np.random.choice([0,1]) for _ in range(2)] for _ in range(200)]\n",
    "#Remove [1,1] and [0,0] components\n",
    "temp=original_signal.copy()\n",
    "for i in temp:\n",
    "    if(i[0]==i[1]):\n",
    "        original_signal.remove(i)\n",
    "\n",
    "print(original_signal)"
   ]
  },
  {
   "cell_type": "code",
   "execution_count": 3,
   "metadata": {},
   "outputs": [],
   "source": [
    "# Define additive white Gaussian noise\n",
    "def channel(y, snr):\n",
    "     \n",
    "    np.random.seed(10)\n",
    "    \n",
    "       \n",
    "    h_real=np.random.normal(loc=0.0, scale=1.0)  #gaussian r.v\n",
    "    h_imag=np.random.normal(loc=0.0, scale=1.0)  #gaussian r.v\n",
    "    h=np.array([h_real,h_imag])\n",
    "    \n",
    "    snr = 10 ** (snr / 10.0)    # SNR(dB) to linear scale\n",
    " \n",
    "    xpower = np.sum(y ** 2) / len(y)   # signal Power \n",
    " \n",
    "    npower = xpower / snr   # Noise Power\n",
    "    \n",
    "    tx = (np.random.randn(len(y)) * np.sqrt(npower)).reshape(len(y),1) + np.multiply(h,y)  # Add noise to signal\n",
    "        \n",
    "    return tx"
   ]
  },
  {
   "cell_type": "code",
   "execution_count": 4,
   "metadata": {},
   "outputs": [
    {
     "name": "stdout",
     "output_type": "stream",
     "text": [
      "[ 0.10403142 -1.22755509] s1 detected\n",
      "[ 1.32492698 -0.00665953] so detected\n",
      "[0.49354471 1.20882368] s1 detected\n",
      "[ 0.75960221 -0.57198429] so detected\n",
      "[1.54248985 0.21090335] so detected\n",
      "[0.08622316 0.80150213] s1 detected\n",
      "[1.33499531 0.0034088 ] so detected\n",
      "[ 1.19289663 -0.13868988] so detected\n",
      "[1.67555143 0.34396493] so detected\n",
      "[2.28719306 0.95560655] so detected\n",
      "[-0.76657891 -0.05129994] so detected\n",
      "[0.81678713 1.53206611] s1 detected\n",
      "[0.18160737 0.89688634] s1 detected\n",
      "[1.68517188 0.35358537] so detected\n",
      "[-0.90283523 -0.18755625] so detected\n",
      "[0.10734304 0.82262201] s1 detected\n",
      "[1.17920966 1.89448863] s1 detected\n",
      "[-0.85771951 -0.14244053] so detected\n",
      "[-1.57096541 -0.85568644] so detected\n",
      "[-0.05322333 -1.38480984] s1 detected\n",
      "[1.54293355 0.21134704] so detected\n",
      "[1.89444689 2.60972586] s1 detected\n",
      "[2.22416619 0.89257969] so detected\n",
      "[2.66019755 1.32861105] so detected\n",
      "[1.41034353 0.07875702] so detected\n",
      "[2.4420545  1.11046799] so detected\n",
      "[-0.21545994  0.49981904] s1 detected\n",
      "[0.4870854  1.20236437] s1 detected\n",
      "[-0.21233759  0.50294138] s1 detected\n",
      "[ 0.89525484 -0.43633166] so detected\n",
      "[1.43700045 0.10541395] so detected\n",
      "[ 0.95337346 -0.37821305] so detected\n",
      "[2.37094362 1.03935711] so detected\n",
      "[1.48649106 0.15490455] so detected\n",
      "[1.6494846  0.31789809] so detected\n",
      "[ 1.06339561 -0.2681909 ] so detected\n",
      "[0.9980514  1.71333037] s1 detected\n",
      "[ 0.75016246 -0.58142404] so detected\n",
      "[0.52444056 1.23971954] s1 detected\n",
      "[ 1.05287905 -0.27870745] so detected\n",
      "[ 0.58536806 -0.74621844] s1 detected\n",
      "[-0.38869437  0.32658461] so detected\n",
      "[-0.63910946  0.07616951] so detected\n",
      "[-0.16895174  0.54632723] s1 detected\n",
      "[-0.26938867  0.4458903 ] s1 detected\n",
      "[0.24796539 0.96324437] s1 detected\n",
      "[1.78050323 0.44891672] so detected\n",
      "[-0.11710007  0.5981789 ] s1 detected\n",
      "[-0.02057734  0.69470163] s1 detected\n",
      "[0.22963569 0.94491466] s1 detected\n",
      "[-0.42884119  0.28643778] so detected\n",
      "[0.5625115  1.27779047] s1 detected\n",
      "[0.66900289 1.38428186] s1 detected\n",
      "[1.49329648 0.16170998] so detected\n",
      "[1.90218073 2.61745971] s1 detected\n",
      "[0.72876354 1.44404251] s1 detected\n",
      "[-0.08918119  0.62609778] s1 detected\n",
      "[-0.28769016  0.42758882] s1 detected\n",
      "[ 1.14715758 -0.18442892] so detected\n",
      "[ 0.93304907 -0.39853743] so detected\n",
      "[0.89662592 1.61190489] s1 detected\n",
      "[ 0.77729629 -0.55429021] so detected\n",
      "[ 1.26714886 -0.06443764] so detected\n",
      "[-0.42043482  0.29484415] so detected\n",
      "[0.83101258 1.54629156] s1 detected\n",
      "[-1.12679911 -0.41152013] so detected\n",
      "[-0.28794334  0.42733564] s1 detected\n",
      "[-0.09683313  0.61844584] s1 detected\n",
      "[0.25367382 0.9689528 ] s1 detected\n",
      "[0.36610819 1.08138716] s1 detected\n",
      "[ 1.1601785 -0.171408 ] so detected\n",
      "[2.11723468 0.78564818] so detected\n",
      "[0.25001781 0.96529679] s1 detected\n",
      "[1.96012491 2.67540388] s1 detected\n",
      "[ 0.13348416 -1.19810234] s1 detected\n",
      "[0.49296063 1.2082396 ] s1 detected\n",
      "[-0.83017828 -0.11489931] so detected\n",
      "[ 0.69770557 -0.63388094] so detected\n",
      "[1.57680874 2.29208771] s1 detected\n",
      "[2.71754165 1.38595514] so detected\n",
      "[-1.47442054 -0.75914156] so detected\n",
      "[ 1.15463106 -0.17695544] so detected\n",
      "[-0.0523048   0.66297417] s1 detected\n",
      "[-0.36169261 -1.69327912] s1 detected\n",
      "[ 1.29279905 -0.03878745] so detected\n",
      "[0.31244203 1.02772101] s1 detected\n",
      "[0.17257984 0.88785881] s1 detected\n",
      "[-1.58420328 -0.86892431] so detected\n",
      "[0.87988393 1.5951629 ] s1 detected\n",
      "[0.19424819 0.90952716] s1 detected\n",
      "[ 1.28240803 -0.04917847] so detected\n",
      "[ 0.73274804 -0.59883846] so detected\n",
      "[1.89711565 0.56552915] so detected\n",
      "[0.72940711 1.44468609] s1 detected\n",
      "[-0.38294019  0.33233878] so detected\n",
      "[1.40274847 0.07116197] so detected\n",
      "[0.65690836 1.37218733] s1 detected\n",
      "[-0.22093766 -1.55252416] s1 detected\n",
      "[1.42490074 0.09331423] so detected\n",
      "[-1.51514686 -0.79986789] so detected\n",
      "[-0.73309289 -0.01781391] so detected\n",
      "[1.70472333 0.37313683] so detected\n",
      "[-0.1146746   0.60060438] s1 detected\n",
      "[ 1.01374531 -0.31784119] so detected\n",
      "[ 1.09647817 -0.23510833] so detected\n",
      "[0.67375605 1.38903502] s1 detected\n",
      "[1.89304189 0.56145539] so detected\n",
      "[ 0.70623657 -0.62534994] so detected\n",
      "[1.56427759 0.23269109] so detected\n",
      "[ 0.95761101 -0.37397549] so detected\n",
      "[3.24141022 1.90982371] so detected\n",
      "[-0.58729193  0.12798704] so detected\n",
      "[-0.24848871  0.46679026] s1 detected\n",
      "[ 1.05445975 -0.27712676] so detected\n",
      "[-0.34873094  0.36654804] s1 detected\n",
      "[0.11208302 0.827362  ] s1 detected\n",
      "[1.54847729 0.21689078] so detected\n"
     ]
    }
   ],
   "source": [
    "# Simulation Of Model\n",
    "snr = 2 #just for checking\n",
    "# transmitted signal\n",
    "tx = channel(np.array(original_signal), snr)\n",
    "for i in range(0,len(tx)):\n",
    "    \n",
    "    if ( ( (tx[i][0])**2 > (tx[i][1])**2) ) :\n",
    "        print(tx[i],\"so detected\")\n",
    "    else:\n",
    "         print(tx[i],\"s1 detected\")    "
   ]
  },
  {
   "cell_type": "code",
   "execution_count": 5,
   "metadata": {},
   "outputs": [
    {
     "data": {
      "image/png": "[encoded data removed]",
      "text/plain": [
       "<Figure size 432x288 with 1 Axes>"
      ]
     },
     "metadata": {
      "needs_background": "light"
     },
     "output_type": "display_data"
    }
   ],
   "source": [
    "#Plot BER vs SNR\n",
    "EbNodB_range = range(-5,13)   # SNR Varying Range\n",
    "itr = len(EbNodB_range)\n",
    "ber = [None]*itr            # letters error rate\n",
    "for n in range(0,itr):\n",
    "    \n",
    "    #----------------------Transmission: AWGN Channel----------------------#\n",
    "    snr = EbNodB_range[n]  \n",
    "    tx = channel(np.array(original_signal), snr)   # transmitted signal\n",
    "    err=0\n",
    "      \n",
    "    for i in range(0,len(tx)):\n",
    "        if ( ( (tx[i][0])**2 > (tx[i][1])**2) and (np.array(original_signal)[i][1]==1) ) or ( ( (tx[i][0])**2 < (tx[i][1])**2) and (np.array(original_signal)[i][0]==1) ):\n",
    "            err=err+1\n",
    "    ber[n]=err/len(tx)\n",
    "    \n",
    "plt.plot(EbNodB_range, ber)\n",
    "plt.xscale('linear')\n",
    "plt.yscale('log')\n",
    "plt.xlabel('EbNo(dB)')\n",
    "plt.ylabel('bER')\n",
    "plt.grid(True)\n",
    "plt.show()   \n",
    "    "
   ]
  },
  {
   "cell_type": "code",
   "execution_count": null,
   "metadata": {},
   "outputs": [],
   "source": []
  }
 ],
 "metadata": {
  "kernelspec": {
   "display_name": "Python 3",
   "language": "python",
   "name": "python3"
  },
  "language_info": {
   "codemirror_mode": {
    "name": "ipython",
    "version": 3
   },
   "file_extension": ".py",
   "mimetype": "text/x-python",
   "name": "python",
   "nbconvert_exporter": "python",
   "pygments_lexer": "ipython3",
   "version": "3.8.3"
  }
 },
 "nbformat": 4,
 "nbformat_minor": 4
}
